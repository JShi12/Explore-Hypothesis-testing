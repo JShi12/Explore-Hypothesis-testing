{
 "cells": [
  {
   "cell_type": "markdown",
   "metadata": {
    "id": "xSDP4bMrIL2x"
   },
   "source": [
    "# Conduct a A/B test with Python: Analyse the Literacy Rates of Two States for Funding Allocation\n",
    "\n",
    "In this project, I conducted A/B tests to determine the mean district literacy rates for two states (STATE21 and STATE28). I used Python to simulate taking a random sample of 20 districts in each state and conducted a two-sample t-test based on the sample data.\n",
    "\n",
    "## Summary of Results\n",
    "\n",
    "There is a statistically significant difference between the mean district literacy rates of the two states. This analysis helps decide how to distribute government resources. Since STATE28 has a lower literacy rate, more resources should be allocated to improve the literacy rate of this state."
   ]
  },
  {
   "cell_type": "markdown",
   "metadata": {},
   "source": [
    "## Read the data\n",
    "The data used for the analysis was accessed via https://www.kaggle.com/datasets/saswatsethda/districtwise-education-data/data"
   ]
  },
  {
   "cell_type": "code",
   "execution_count": 1,
   "metadata": {
    "id": "_C6AXCrjIMvM"
   },
   "outputs": [],
   "source": [
    "import pandas as pd\n",
    "from scipy import stats"
   ]
  },
  {
   "cell_type": "code",
   "execution_count": 5,
   "metadata": {
    "id": "Q1cI14FVEsS8"
   },
   "outputs": [],
   "source": [
    "education_districtwise = pd.read_csv(\"education_districtwise.csv\")\n",
    "# education_districtwise = education_districtwise.dropna()"
   ]
  },
  {
   "cell_type": "markdown",
   "metadata": {
    "id": "QdJe4yLiS5r-"
   },
   "source": [
    "## Explore the data\n",
    "\n",
    "1. Data clearning. Remove entries with null values. Check duplicates.\n",
    "2. Filter the dataframe to get the data of the two districts of interest - STATE21 and STATE28 - for further investigation"
   ]
  },
  {
   "cell_type": "code",
   "execution_count": 4,
   "metadata": {
    "scrolled": true
   },
   "outputs": [
    {
     "data": {
      "text/html": [
       "<div>\n",
       "<style scoped>\n",
       "    .dataframe tbody tr th:only-of-type {\n",
       "        vertical-align: middle;\n",
       "    }\n",
       "\n",
       "    .dataframe tbody tr th {\n",
       "        vertical-align: top;\n",
       "    }\n",
       "\n",
       "    .dataframe thead th {\n",
       "        text-align: right;\n",
       "    }\n",
       "</style>\n",
       "<table border=\"1\" class=\"dataframe\">\n",
       "  <thead>\n",
       "    <tr style=\"text-align: right;\">\n",
       "      <th></th>\n",
       "      <th>DISTNAME</th>\n",
       "      <th>STATNAME</th>\n",
       "      <th>BLOCKS</th>\n",
       "      <th>VILLAGES</th>\n",
       "      <th>CLUSTERS</th>\n",
       "      <th>TOTPOPULAT</th>\n",
       "      <th>OVERALL_LI</th>\n",
       "    </tr>\n",
       "  </thead>\n",
       "  <tbody>\n",
       "    <tr>\n",
       "      <th>0</th>\n",
       "      <td>DISTRICT32</td>\n",
       "      <td>STATE1</td>\n",
       "      <td>13</td>\n",
       "      <td>391</td>\n",
       "      <td>104</td>\n",
       "      <td>875564.0</td>\n",
       "      <td>66.92</td>\n",
       "    </tr>\n",
       "    <tr>\n",
       "      <th>1</th>\n",
       "      <td>DISTRICT649</td>\n",
       "      <td>STATE1</td>\n",
       "      <td>18</td>\n",
       "      <td>678</td>\n",
       "      <td>144</td>\n",
       "      <td>1015503.0</td>\n",
       "      <td>66.93</td>\n",
       "    </tr>\n",
       "    <tr>\n",
       "      <th>2</th>\n",
       "      <td>DISTRICT229</td>\n",
       "      <td>STATE1</td>\n",
       "      <td>8</td>\n",
       "      <td>94</td>\n",
       "      <td>65</td>\n",
       "      <td>1269751.0</td>\n",
       "      <td>71.21</td>\n",
       "    </tr>\n",
       "    <tr>\n",
       "      <th>3</th>\n",
       "      <td>DISTRICT259</td>\n",
       "      <td>STATE1</td>\n",
       "      <td>13</td>\n",
       "      <td>523</td>\n",
       "      <td>104</td>\n",
       "      <td>735753.0</td>\n",
       "      <td>57.98</td>\n",
       "    </tr>\n",
       "    <tr>\n",
       "      <th>4</th>\n",
       "      <td>DISTRICT486</td>\n",
       "      <td>STATE1</td>\n",
       "      <td>8</td>\n",
       "      <td>359</td>\n",
       "      <td>64</td>\n",
       "      <td>570060.0</td>\n",
       "      <td>65.00</td>\n",
       "    </tr>\n",
       "  </tbody>\n",
       "</table>\n",
       "</div>"
      ],
      "text/plain": [
       "      DISTNAME STATNAME  BLOCKS  VILLAGES  CLUSTERS  TOTPOPULAT  OVERALL_LI\n",
       "0   DISTRICT32   STATE1      13       391       104    875564.0       66.92\n",
       "1  DISTRICT649   STATE1      18       678       144   1015503.0       66.93\n",
       "2  DISTRICT229   STATE1       8        94        65   1269751.0       71.21\n",
       "3  DISTRICT259   STATE1      13       523       104    735753.0       57.98\n",
       "4  DISTRICT486   STATE1       8       359        64    570060.0       65.00"
      ]
     },
     "execution_count": 4,
     "metadata": {},
     "output_type": "execute_result"
    }
   ],
   "source": [
    "education_districtwise.head()"
   ]
  },
  {
   "cell_type": "code",
   "execution_count": 7,
   "metadata": {},
   "outputs": [
    {
     "name": "stdout",
     "output_type": "stream",
     "text": [
      "(680, 7)\n",
      "DISTNAME       0\n",
      "STATNAME       0\n",
      "BLOCKS         0\n",
      "VILLAGES       0\n",
      "CLUSTERS       0\n",
      "TOTPOPULAT    46\n",
      "OVERALL_LI    46\n",
      "dtype: int64\n"
     ]
    }
   ],
   "source": [
    "print(education_districtwise.shape)\n",
    "print(education_districtwise.isnull().sum())"
   ]
  },
  {
   "cell_type": "code",
   "execution_count": 8,
   "metadata": {},
   "outputs": [],
   "source": [
    "# Remove entries with null values\n",
    "education_districtwise=education_districtwise.dropna()"
   ]
  },
  {
   "cell_type": "code",
   "execution_count": 10,
   "metadata": {},
   "outputs": [
    {
     "name": "stdout",
     "output_type": "stream",
     "text": [
      "0\n"
     ]
    }
   ],
   "source": [
    "# check for dulicates\n",
    "print(education_districtwise.duplicated().sum())"
   ]
  },
  {
   "cell_type": "code",
   "execution_count": 11,
   "metadata": {
    "id": "PRB_UvPtIkrr"
   },
   "outputs": [],
   "source": [
    "# Get the data for the two districts of interest\n",
    "\n",
    "state21 = education_districtwise[education_districtwise['STATNAME'] == \"STATE21\"]\n",
    "state28 = education_districtwise[education_districtwise['STATNAME'] == \"STATE28\"]"
   ]
  },
  {
   "cell_type": "markdown",
   "metadata": {
    "id": "U6-SPgP2UADq"
   },
   "source": [
    "## Simulate random sampling & Compute the sample means \n",
    "\n",
    "use the `.sample()` function to take a random sample from a dataframe. \n",
    "*   `n`: sample size. \n",
    "*   `replace=True`: Enables sampling with replacement; bootstraping is normally used to estimate statistics. Even if duplicates feel odd, bootstrapping may still be statistically valid as a modeling tool — it doesn't claim the duplicates exist, it just estimates sampling variability.\n",
    "*   `random_state`: Sets a fixed seed for reproducibility. "
   ]
  },
  {
   "cell_type": "code",
   "execution_count": 14,
   "metadata": {
    "id": "T7Xbx5XtFAGU"
   },
   "outputs": [],
   "source": [
    "sampled_state21 = state21.sample(n=20, replace = True, random_state=42)\n",
    "sampled_state28 = state28.sample(n=20, replace = True, random_state=1)"
   ]
  },
  {
   "cell_type": "code",
   "execution_count": 16,
   "metadata": {
    "colab": {
     "base_uri": "https://localhost:8080/"
    },
    "id": "WtCBv7Pdzp1S",
    "outputId": "8867edc3-630a-4c49-9cef-23160a59b4fb"
   },
   "outputs": [
    {
     "data": {
      "text/plain": [
       "68.01950000000001"
      ]
     },
     "execution_count": 16,
     "metadata": {},
     "output_type": "execute_result"
    }
   ],
   "source": [
    "sampled_state21['OVERALL_LI'].mean()"
   ]
  },
  {
   "cell_type": "code",
   "execution_count": 15,
   "metadata": {
    "colab": {
     "base_uri": "https://localhost:8080/"
    },
    "id": "T2YShgan0MDg",
    "outputId": "301fbf0e-a7e8-4c4c-cbe3-7870fc7c9e44"
   },
   "outputs": [
    {
     "data": {
      "text/plain": [
       "61.167999999999985"
      ]
     },
     "execution_count": 15,
     "metadata": {},
     "output_type": "execute_result"
    }
   ],
   "source": [
    "sampled_state28['OVERALL_LI'].mean()"
   ]
  },
  {
   "cell_type": "markdown",
   "metadata": {
    "id": "RJNadLsNWssi"
   },
   "source": [
    "STATE21 has a mean district literacy rate of about 68%, while STATE28 has a mean district literacy rate of about 61%.\n",
    "\n",
    "The observed difference between the mean district literacy rates of STATE21 and STATE28 is 7% (68% - 61%). "
   ]
  },
  {
   "cell_type": "markdown",
   "metadata": {
    "id": "hqjCHOPRwh_j"
   },
   "source": [
    "**Note**: At this point, we might be tempted to conclude that STATE21 has a higher overall literacy rate than STATE28. However, due to sampling variability, this observed difference might simply be due to chance, rather than an actual difference in the corresponding population means. A hypothesis test can help determine whether or not the results are statistically significant. "
   ]
  },
  {
   "cell_type": "markdown",
   "metadata": {
    "id": "ozRJehHPZQ6i"
   },
   "source": [
    "## Conduct a hypothesis test\n",
    "\n",
    "A two-sample t-test is the standard approach for comparing the means of two independent samples. The steps for conducting a hypothesis test are:\n",
    "\n",
    "1.   State the null hypothesis and the alternative hypothesis.\n",
    "2.   Choose a significance level. The threshold at which you will consider a result statistically significant. This is the probability of rejecting the null hypothesis when it is true. Here we use 5%. \n",
    "3.   Find the p-value. \n",
    "4.   Reject or fail to reject the null hypothesis."
   ]
  },
  {
   "cell_type": "markdown",
   "metadata": {
    "id": "HSbe913K6psC"
   },
   "source": [
    "### The null hypothesis and the alternative hypothesis\n",
    "\n",
    "*   **Null hypothesis** $(H_0)$: There is no difference in the mean district literacy rates between STATE21 and STATE28.\n",
    "*   **Alternative hypothesis** $(H_A)$: There is a difference in the mean district literacy rates between STATE21 and STATE28."
   ]
  },
  {
   "cell_type": "markdown",
   "metadata": {
    "id": "0k3BHBhR8bCZ"
   },
   "source": [
    "### Find the p-value\n",
    "\n",
    "**P-value** refers to the probability of observing results as or more extreme than those observed when the null hypothesis is true. If the probability of this outcome is very unlikely—in particular, if the p-value is *less than* the significance level of 5%— then we will reject the null hypothesis."
   ]
  },
  {
   "cell_type": "markdown",
   "metadata": {
    "id": "d7u1j6Gpdk55"
   },
   "source": [
    "For a two-sample $t$-test, use `scipy.stats.ttest_ind()` to compute the p-value. This function includes the following arguments:\n",
    "\n",
    "*   `a`: Observations from the first sample \n",
    "*   `b`: Observations from the second sample\n",
    "*   `equal_var`: A boolean, or true/false statement, which indicates whether the population variance of the two samples is assumed to be equal. In our example, we don’t have access to data for the entire population, so we don’t want to assume anything about the variance. To avoid making a wrong assumption, set this argument to `False`. \n",
    "\n",
    "**Reference:** [scipy.stats.ttest_ind](https://docs.scipy.org/doc/scipy/reference/generated/scipy.stats.ttest_ind.html)\n"
   ]
  },
  {
   "cell_type": "code",
   "execution_count": 17,
   "metadata": {
    "colab": {
     "base_uri": "https://localhost:8080/"
    },
    "id": "lbKgNo-tIkki",
    "outputId": "7de9a1df-d039-4e5b-8abd-1dc4158388f6"
   },
   "outputs": [
    {
     "data": {
      "text/plain": [
       "TtestResult(statistic=3.4447514689083785, pvalue=0.0014097931596738957, df=37.94509081476471)"
      ]
     },
     "execution_count": 17,
     "metadata": {},
     "output_type": "execute_result"
    }
   ],
   "source": [
    "stats.ttest_ind(a=sampled_state21['OVERALL_LI'], b=sampled_state28['OVERALL_LI'], equal_var=False)"
   ]
  },
  {
   "cell_type": "markdown",
   "metadata": {
    "id": "Dv9jGagsAaN2"
   },
   "source": [
    "The p-value is about 0.0014, or 0.14%. \n",
    "\n",
    "This means there is only a 0.14% probability that the absolute difference between the two mean district literacy rates would be 6.2 percentage points or greater if the null hypothesis were true. In other words, it’s highly unlikely that the difference in the two means is due to chance."
   ]
  },
  {
   "cell_type": "markdown",
   "metadata": {
    "id": "hWLkcY05_aLf"
   },
   "source": [
    "#### Reject the null hypothesis\n",
    "\n",
    "The p-value of 0.14%, is less than the significance level of 5%. Therefore, we will *reject* the null hypothesis and conclude that there is a statistically significant difference between the mean district literacy rates of the two states: STATE21 and STATE28. "
   ]
  },
  {
   "cell_type": "markdown",
   "metadata": {
    "id": "INEo81bakaqz"
   },
   "source": [
    "# Conclusion\n",
    "\n",
    "There is a statistically significant difference between the mean district literacy rates of the two states. STATE28 has a lower literacy rate thus more resources should be allocated to improve literacy."
   ]
  },
  {
   "cell_type": "code",
   "execution_count": null,
   "metadata": {},
   "outputs": [],
   "source": []
  }
 ],
 "metadata": {
  "colab": {
   "collapsed_sections": [],
   "provenance": [
    {
     "file_id": "1BgN3Lv1fx-AxyKSqB_2kM3dJ4mFBctv_",
     "timestamp": 1662734078308
    },
    {
     "file_id": "1ZYfhIvPRxnw7ghB_BsNQAMUorLXpAZs_",
     "timestamp": 1658889786811
    }
   ]
  },
  "kernelspec": {
   "display_name": "Python 3 (ipykernel)",
   "language": "python",
   "name": "python3"
  },
  "language_info": {
   "codemirror_mode": {
    "name": "ipython",
    "version": 3
   },
   "file_extension": ".py",
   "mimetype": "text/x-python",
   "name": "python",
   "nbconvert_exporter": "python",
   "pygments_lexer": "ipython3",
   "version": "3.12.7"
  }
 },
 "nbformat": 4,
 "nbformat_minor": 4
}
